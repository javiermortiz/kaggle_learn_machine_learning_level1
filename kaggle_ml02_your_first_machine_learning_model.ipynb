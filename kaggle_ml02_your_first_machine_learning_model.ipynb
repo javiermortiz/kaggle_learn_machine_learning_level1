{
  "cells": [
    {
      "metadata": {
        "_uuid": "ade139c2865f4f5b9f9131c45b8c9d84e4d2d37c"
      },
      "cell_type": "markdown",
      "source": "## Recap\nSo far, you have loaded your data and reviewed it with the following code. Run this cell to set up your coding environment where the previous step left off."
    },
    {
      "metadata": {
        "_uuid": "f0544584e18fcbbf870b50576e36273f62f4fb01",
        "trusted": true
      },
      "cell_type": "code",
      "source": "# Code you have previously used to load data\nimport pandas as pd\n\n# Path of the file to read\niowa_file_path = '../input/home-data-for-ml-course/train.csv'\n\nhome_data = pd.read_csv(iowa_file_path)\n\n# Set up code checking\nfrom learntools.core import binder\nbinder.bind(globals())\nfrom learntools.machine_learning.ex3 import *\n\nprint(\"Setup Complete\")",
      "execution_count": 1,
      "outputs": [
        {
          "output_type": "stream",
          "text": "Setup Complete\n",
          "name": "stdout"
        }
      ]
    },
    {
      "metadata": {
        "_uuid": "dab63286c3aa0beddae1ff3d4b268e1b114d4004"
      },
      "cell_type": "markdown",
      "source": "# Exercises\n\n## Step 1: Specify Prediction Target\nSelect the target variable, which corresponds to the sales price. Save this to a new variable called `y`. You'll need to print a list of the columns to find the name of the column you need.\n"
    },
    {
      "metadata": {
        "_uuid": "901e64cb33e794b26b99e6080c81701a2a33f23a",
        "trusted": true
      },
      "cell_type": "code",
      "source": "# print the list of columns in the dataset to find the name of the prediction target\nhome_data.columns",
      "execution_count": 2,
      "outputs": [
        {
          "output_type": "execute_result",
          "execution_count": 2,
          "data": {
            "text/plain": "Index(['Id', 'MSSubClass', 'MSZoning', 'LotFrontage', 'LotArea', 'Street',\n       'Alley', 'LotShape', 'LandContour', 'Utilities', 'LotConfig',\n       'LandSlope', 'Neighborhood', 'Condition1', 'Condition2', 'BldgType',\n       'HouseStyle', 'OverallQual', 'OverallCond', 'YearBuilt', 'YearRemodAdd',\n       'RoofStyle', 'RoofMatl', 'Exterior1st', 'Exterior2nd', 'MasVnrType',\n       'MasVnrArea', 'ExterQual', 'ExterCond', 'Foundation', 'BsmtQual',\n       'BsmtCond', 'BsmtExposure', 'BsmtFinType1', 'BsmtFinSF1',\n       'BsmtFinType2', 'BsmtFinSF2', 'BsmtUnfSF', 'TotalBsmtSF', 'Heating',\n       'HeatingQC', 'CentralAir', 'Electrical', '1stFlrSF', '2ndFlrSF',\n       'LowQualFinSF', 'GrLivArea', 'BsmtFullBath', 'BsmtHalfBath', 'FullBath',\n       'HalfBath', 'BedroomAbvGr', 'KitchenAbvGr', 'KitchenQual',\n       'TotRmsAbvGrd', 'Functional', 'Fireplaces', 'FireplaceQu', 'GarageType',\n       'GarageYrBlt', 'GarageFinish', 'GarageCars', 'GarageArea', 'GarageQual',\n       'GarageCond', 'PavedDrive', 'WoodDeckSF', 'OpenPorchSF',\n       'EnclosedPorch', '3SsnPorch', 'ScreenPorch', 'PoolArea', 'PoolQC',\n       'Fence', 'MiscFeature', 'MiscVal', 'MoSold', 'YrSold', 'SaleType',\n       'SaleCondition', 'SalePrice'],\n      dtype='object')"
          },
          "metadata": {}
        }
      ]
    },
    {
      "metadata": {
        "_uuid": "ae495b0287c68001cb982f5e8b479201cdd5f6d0",
        "trusted": true
      },
      "cell_type": "code",
      "source": "y = home_data.SalePrice\n\nstep_1.check()",
      "execution_count": 3,
      "outputs": [
        {
          "output_type": "display_data",
          "data": {
            "text/plain": "<IPython.core.display.Javascript object>",
            "application/javascript": "parent.postMessage({\"jupyterEvent\": \"custom.exercise_interaction\", \"data\": {\"outcomeType\": 1, \"valueTowardsCompletion\": 0.25, \"interactionType\": 1, \"learnTutorialId\": 84, \"questionId\": \"1_SetTarget\", \"learnToolsVersion\": \"0.2.6\", \"failureMessage\": \"\", \"exceptionClass\": \"\", \"trace\": \"\"}}, \"*\")"
          },
          "metadata": {}
        },
        {
          "output_type": "display_data",
          "data": {
            "text/plain": "Correct",
            "text/markdown": "<span style=\"color:#33cc33\">Correct</span>"
          },
          "metadata": {}
        }
      ]
    },
    {
      "metadata": {
        "collapsed": true,
        "_uuid": "8848d1a8da1a2a0c32ad7650920980c401c7696e",
        "trusted": false
      },
      "cell_type": "code",
      "source": "# The lines below will show you a hint or the solution.\n# step_1.hint() \n# step_1.solution()\n",
      "execution_count": null,
      "outputs": []
    },
    {
      "metadata": {
        "_uuid": "7c154195cd60de080846d6a35620a3c9ce3edc4a"
      },
      "cell_type": "markdown",
      "source": "## Step 2: Create X\nNow you will create a DataFrame called `X` holding the predictive features.\n\nSince you want only some columns from the original data, you'll first create a list with the names of the columns you want in `X`.\n\nYou'll use just the following columns in the list (you can copy and paste the whole list to save some typing, though you'll still need to add quotes):\n    * LotArea\n    * YearBuilt\n    * 1stFlrSF\n    * 2ndFlrSF\n    * FullBath\n    * BedroomAbvGr\n    * TotRmsAbvGrd\n\nAfter you've created that list of features, use it to create the DataFrame that you'll use to fit the model."
    },
    {
      "metadata": {
        "_uuid": "2d57345d82817cbd1354b6e8c250efbfe8e12b3b",
        "trusted": true
      },
      "cell_type": "code",
      "source": "# Create the list of features below\nfeature_names = ['LotArea', 'YearBuilt', '1stFlrSF', '2ndFlrSF', 'FullBath', 'BedroomAbvGr', 'TotRmsAbvGrd']\n\n# select data corresponding to features in feature_names\nX = home_data[feature_names]\n\nstep_2.check()",
      "execution_count": 4,
      "outputs": [
        {
          "output_type": "display_data",
          "data": {
            "text/plain": "<IPython.core.display.Javascript object>",
            "application/javascript": "parent.postMessage({\"jupyterEvent\": \"custom.exercise_interaction\", \"data\": {\"outcomeType\": 1, \"valueTowardsCompletion\": 0.25, \"interactionType\": 1, \"learnTutorialId\": 84, \"questionId\": \"2_SelectPredictionData\", \"learnToolsVersion\": \"0.2.6\", \"failureMessage\": \"\", \"exceptionClass\": \"\", \"trace\": \"\"}}, \"*\")"
          },
          "metadata": {}
        },
        {
          "output_type": "display_data",
          "data": {
            "text/plain": "Correct",
            "text/markdown": "<span style=\"color:#33cc33\">Correct</span>"
          },
          "metadata": {}
        }
      ]
    },
    {
      "metadata": {
        "collapsed": true,
        "_uuid": "fa69e825d953841a4f04cab55cc0021ff7762527",
        "trusted": false
      },
      "cell_type": "code",
      "source": "# step_2.hint()\n# step_2.solution()",
      "execution_count": null,
      "outputs": []
    },
    {
      "metadata": {
        "_uuid": "2cf553c10af1700524c78ba509ba0bb16bc6c2d3"
      },
      "cell_type": "markdown",
      "source": "## Review Data\nBefore building a model, take a quick look at **X** to verify it looks sensible"
    },
    {
      "metadata": {
        "_uuid": "a5f12d56fbf56cc6bd1a5d19ba84d87f9f674a50",
        "trusted": true
      },
      "cell_type": "code",
      "source": "# Review data\n# print description or statistics from X\nprint(X.describe())\n\n# print the top few lines\nprint(X.head())\n",
      "execution_count": 5,
      "outputs": [
        {
          "output_type": "stream",
          "text": "             LotArea    YearBuilt      ...       BedroomAbvGr  TotRmsAbvGrd\ncount    1460.000000  1460.000000      ...        1460.000000   1460.000000\nmean    10516.828082  1971.267808      ...           2.866438      6.517808\nstd      9981.264932    30.202904      ...           0.815778      1.625393\nmin      1300.000000  1872.000000      ...           0.000000      2.000000\n25%      7553.500000  1954.000000      ...           2.000000      5.000000\n50%      9478.500000  1973.000000      ...           3.000000      6.000000\n75%     11601.500000  2000.000000      ...           3.000000      7.000000\nmax    215245.000000  2010.000000      ...           8.000000     14.000000\n\n[8 rows x 7 columns]\n   LotArea  YearBuilt      ...       BedroomAbvGr  TotRmsAbvGrd\n0     8450       2003      ...                  3             8\n1     9600       1976      ...                  3             6\n2    11250       2001      ...                  3             6\n3     9550       1915      ...                  3             7\n4    14260       2000      ...                  4             9\n\n[5 rows x 7 columns]\n",
          "name": "stdout"
        }
      ]
    },
    {
      "metadata": {
        "_uuid": "252bcdd757f9629ab1b96eacd1f843d01ac0a14a"
      },
      "cell_type": "markdown",
      "source": "## Step 3: Specify and Fit Model\nCreate a `DecisionTreeRegressor` and save it iowa_model. Ensure you've done the relevant import from sklearn to run this command.\n\nThen fit the model you just created using the data in `X` and `y` that you saved above."
    },
    {
      "metadata": {
        "_uuid": "cfc9f83d01b1a08dad5b64b22ea9cef1c1db5832",
        "trusted": true
      },
      "cell_type": "code",
      "source": "from sklearn.tree import DecisionTreeRegressor\n#specify the model. \n#For model reproducibility, set a numeric value for random_state when specifying the model\niowa_model = DecisionTreeRegressor(random_state=1)\n\n# Fit the model\niowa_model.fit(X, y)\n\nstep_3.check()",
      "execution_count": 6,
      "outputs": [
        {
          "output_type": "display_data",
          "data": {
            "text/plain": "<IPython.core.display.Javascript object>",
            "application/javascript": "parent.postMessage({\"jupyterEvent\": \"custom.exercise_interaction\", \"data\": {\"outcomeType\": 1, \"valueTowardsCompletion\": 0.25, \"interactionType\": 1, \"learnTutorialId\": 84, \"questionId\": \"3_CreateModel\", \"learnToolsVersion\": \"0.2.6\", \"failureMessage\": \"\", \"exceptionClass\": \"\", \"trace\": \"\"}}, \"*\")"
          },
          "metadata": {}
        },
        {
          "output_type": "display_data",
          "data": {
            "text/plain": "Correct",
            "text/markdown": "<span style=\"color:#33cc33\">Correct</span>"
          },
          "metadata": {}
        }
      ]
    },
    {
      "metadata": {
        "collapsed": true,
        "_uuid": "b91491028c212a22200597fc21c47d2255503b08",
        "trusted": false
      },
      "cell_type": "code",
      "source": "# step_3.hint()\n# step_3.solution()",
      "execution_count": null,
      "outputs": []
    },
    {
      "metadata": {
        "_uuid": "c1050a44b2f4540a59dcc74f6898f90bed603a7d"
      },
      "cell_type": "markdown",
      "source": "## Step 4: Make Predictions\nMake predictions with the model's `predict` command using `X` as the data. Save the results to a variable called `predictions`."
    },
    {
      "metadata": {
        "_uuid": "ec000161021c970901fbafa4f0db9ea0a493b688",
        "trusted": true
      },
      "cell_type": "code",
      "source": "predictions = iowa_model.predict(X)\nprint(predictions)\nstep_4.check()",
      "execution_count": 7,
      "outputs": [
        {
          "output_type": "stream",
          "text": "[208500. 181500. 223500. ... 266500. 142125. 147500.]\n",
          "name": "stdout"
        },
        {
          "output_type": "display_data",
          "data": {
            "text/plain": "<IPython.core.display.Javascript object>",
            "application/javascript": "parent.postMessage({\"jupyterEvent\": \"custom.exercise_interaction\", \"data\": {\"outcomeType\": 1, \"valueTowardsCompletion\": 0.25, \"interactionType\": 1, \"learnTutorialId\": 84, \"questionId\": \"4_MakePredictions\", \"learnToolsVersion\": \"0.2.6\", \"failureMessage\": \"\", \"exceptionClass\": \"\", \"trace\": \"\"}}, \"*\")"
          },
          "metadata": {}
        },
        {
          "output_type": "display_data",
          "data": {
            "text/plain": "Correct",
            "text/markdown": "<span style=\"color:#33cc33\">Correct</span>"
          },
          "metadata": {}
        }
      ]
    },
    {
      "metadata": {
        "_uuid": "618d97bbfe491e2cf70d02d17415be8969b694c4",
        "trusted": true
      },
      "cell_type": "code",
      "source": "# step_4.hint()\nstep_4.solution()",
      "execution_count": null,
      "outputs": []
    },
    {
      "metadata": {
        "_uuid": "ed7e72659a10d3905b4a9ae622e3764e9245af77"
      },
      "cell_type": "markdown",
      "source": "## Think About Your Results\n\nUse the `head` method to compare the top few predictions to the actual home values (in `y`) for those same homes. Anything surprising?\n\nYou'll understand why this happened if you keep going."
    },
    {
      "metadata": {
        "trusted": true,
        "_uuid": "e0be821ce57ebee159f156f4c6fb57f6eb8ae013"
      },
      "cell_type": "code",
      "source": "print(y)",
      "execution_count": 8,
      "outputs": [
        {
          "output_type": "stream",
          "text": "0       208500\n1       181500\n2       223500\n3       140000\n4       250000\n5       143000\n6       307000\n7       200000\n8       129900\n9       118000\n10      129500\n11      345000\n12      144000\n13      279500\n14      157000\n15      132000\n16      149000\n17       90000\n18      159000\n19      139000\n20      325300\n21      139400\n22      230000\n23      129900\n24      154000\n25      256300\n26      134800\n27      306000\n28      207500\n29       68500\n         ...  \n1430    192140\n1431    143750\n1432     64500\n1433    186500\n1434    160000\n1435    174000\n1436    120500\n1437    394617\n1438    149700\n1439    197000\n1440    191000\n1441    149300\n1442    310000\n1443    121000\n1444    179600\n1445    129000\n1446    157900\n1447    240000\n1448    112000\n1449     92000\n1450    136000\n1451    287090\n1452    145000\n1453     84500\n1454    185000\n1455    175000\n1456    210000\n1457    266500\n1458    142125\n1459    147500\nName: SalePrice, Length: 1460, dtype: int64\n",
          "name": "stdout"
        }
      ]
    },
    {
      "metadata": {
        "_uuid": "99d255e1f34367facaaf5b79f274a306646f1026"
      },
      "cell_type": "markdown",
      "source": "\n## Keep Going\nYou've built a decision tree model.  It's natural to ask how accurate the model's predictions will be and how you can improve that. Learn how to do that with **[Model Validation](https://www.kaggle.com/dansbecker/model-validation)**.\n\n---\n**[Course Home Page](https://www.kaggle.com/learn/machine-learning)**\n\n\n"
    }
  ],
  "metadata": {
    "kernelspec": {
      "display_name": "Python 3",
      "language": "python",
      "name": "python3"
    },
    "language_info": {
      "name": "python",
      "version": "3.6.6",
      "mimetype": "text/x-python",
      "codemirror_mode": {
        "name": "ipython",
        "version": 3
      },
      "pygments_lexer": "ipython3",
      "nbconvert_exporter": "python",
      "file_extension": ".py"
    }
  },
  "nbformat": 4,
  "nbformat_minor": 1
}